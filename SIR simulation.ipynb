{
 "cells": [
  {
   "cell_type": "markdown",
   "metadata": {},
   "source": [
    "## SIR Analysis of the graphs"
   ]
  },
  {
   "cell_type": "code",
   "execution_count": 1,
   "metadata": {},
   "outputs": [],
   "source": [
    "import numpy as np\n",
    "import pandas as pd\n",
    "import networkx as nx\n",
    "import matplotlib.pyplot as plt\n",
    "import EoN\n",
    "import random\n"
   ]
  },
  {
   "cell_type": "code",
   "execution_count": null,
   "metadata": {},
   "outputs": [],
   "source": []
  },
  {
   "cell_type": "markdown",
   "metadata": {},
   "source": [
    "### Import the created graphs"
   ]
  },
  {
   "cell_type": "code",
   "execution_count": 2,
   "metadata": {},
   "outputs": [
    {
     "name": "stdout",
     "output_type": "stream",
     "text": [
      "Number of nodes: 3000\n",
      "Number of edges: 60559\n",
      "Density of the graph: 0.006731021451594976\n"
     ]
    }
   ],
   "source": [
    "# Read in a saved graph \n",
    "Graph = nx.read_gpickle('Network_Graph.gpickle')\n",
    "\n",
    "# Number of edges\n",
    "print('Number of nodes:', len(Graph.nodes))\n",
    "\n",
    "# Number of edges\n",
    "print('Number of edges:', len(Graph.edges))\n",
    "\n",
    "# Density\n",
    "print('Density of the graph:', nx.density(Graph))\n",
    "\n",
    "numNodes = len(Graph.nodes)\n"
   ]
  },
  {
   "cell_type": "code",
   "execution_count": 3,
   "metadata": {},
   "outputs": [
    {
     "data": {
      "text/html": [
       "<div>\n",
       "<style scoped>\n",
       "    .dataframe tbody tr th:only-of-type {\n",
       "        vertical-align: middle;\n",
       "    }\n",
       "\n",
       "    .dataframe tbody tr th {\n",
       "        vertical-align: top;\n",
       "    }\n",
       "\n",
       "    .dataframe thead th {\n",
       "        text-align: right;\n",
       "    }\n",
       "</style>\n",
       "<table border=\"1\" class=\"dataframe\">\n",
       "  <thead>\n",
       "    <tr style=\"text-align: right;\">\n",
       "      <th></th>\n",
       "      <th>Graph</th>\n",
       "    </tr>\n",
       "  </thead>\n",
       "  <tbody>\n",
       "    <tr>\n",
       "      <th>count</th>\n",
       "      <td>285.00</td>\n",
       "    </tr>\n",
       "    <tr>\n",
       "      <th>mean</th>\n",
       "      <td>10.53</td>\n",
       "    </tr>\n",
       "    <tr>\n",
       "      <th>std</th>\n",
       "      <td>160.82</td>\n",
       "    </tr>\n",
       "    <tr>\n",
       "      <th>min</th>\n",
       "      <td>1.00</td>\n",
       "    </tr>\n",
       "    <tr>\n",
       "      <th>25%</th>\n",
       "      <td>1.00</td>\n",
       "    </tr>\n",
       "    <tr>\n",
       "      <th>50%</th>\n",
       "      <td>1.00</td>\n",
       "    </tr>\n",
       "    <tr>\n",
       "      <th>75%</th>\n",
       "      <td>1.00</td>\n",
       "    </tr>\n",
       "    <tr>\n",
       "      <th>max</th>\n",
       "      <td>2716.00</td>\n",
       "    </tr>\n",
       "  </tbody>\n",
       "</table>\n",
       "</div>"
      ],
      "text/plain": [
       "         Graph\n",
       "count   285.00\n",
       "mean     10.53\n",
       "std     160.82\n",
       "min       1.00\n",
       "25%       1.00\n",
       "50%       1.00\n",
       "75%       1.00\n",
       "max    2716.00"
      ]
     },
     "execution_count": 3,
     "metadata": {},
     "output_type": "execute_result"
    }
   ],
   "source": [
    "# weakly connected components\n",
    "df_weak = pd.DataFrame()\n",
    "d = {}\n",
    "indices = []\n",
    " \n",
    "components = [C for C in nx.algorithms.components.weakly_connected_components(Graph)]\n",
    "m = pd.Series([len(c) for c in components], name='Graph')\n",
    "df_weak = pd.concat([df_weak, m.describe()], axis=1)    \n",
    "d['Graph'] = m.value_counts()\n",
    "round(df_weak, 2)\n"
   ]
  },
  {
   "cell_type": "code",
   "execution_count": 4,
   "metadata": {},
   "outputs": [
    {
     "data": {
      "text/html": [
       "<div>\n",
       "<style scoped>\n",
       "    .dataframe tbody tr th:only-of-type {\n",
       "        vertical-align: middle;\n",
       "    }\n",
       "\n",
       "    .dataframe tbody tr th {\n",
       "        vertical-align: top;\n",
       "    }\n",
       "\n",
       "    .dataframe thead th {\n",
       "        text-align: right;\n",
       "    }\n",
       "</style>\n",
       "<table border=\"1\" class=\"dataframe\">\n",
       "  <thead>\n",
       "    <tr style=\"text-align: right;\">\n",
       "      <th></th>\n",
       "      <th>Graph</th>\n",
       "    </tr>\n",
       "    <tr>\n",
       "      <th>#nodes</th>\n",
       "      <th></th>\n",
       "    </tr>\n",
       "  </thead>\n",
       "  <tbody>\n",
       "    <tr>\n",
       "      <th>1</th>\n",
       "      <td>284</td>\n",
       "    </tr>\n",
       "    <tr>\n",
       "      <th>2716</th>\n",
       "      <td>1</td>\n",
       "    </tr>\n",
       "    <tr>\n",
       "      <th>0</th>\n",
       "      <td>285</td>\n",
       "    </tr>\n",
       "  </tbody>\n",
       "</table>\n",
       "</div>"
      ],
      "text/plain": [
       "        Graph\n",
       "#nodes       \n",
       "1         284\n",
       "2716        1\n",
       "0         285"
      ]
     },
     "execution_count": 4,
     "metadata": {},
     "output_type": "execute_result"
    }
   ],
   "source": [
    "# weakly_connected_components\n",
    "indices = sorted(list(set([item for sublist in [list(v.index) for v in d.values()] for item in sublist])))\n",
    "df_weak = pd.DataFrame(index=sorted(indices))\n",
    "for k, v in d.items():\n",
    "    df_weak = df_weak.join(v, how='outer')\n",
    "df_weak = df_weak.fillna(0).astype(int)\n",
    "df_weak = pd.concat([df_weak, pd.DataFrame(df_weak.sum(axis=0)).T])\n",
    "df_weak.index.name = '#nodes'\n",
    "df_weak\n"
   ]
  },
  {
   "cell_type": "code",
   "execution_count": 5,
   "metadata": {},
   "outputs": [],
   "source": [
    "# Keep only the largest weakly connected component of the generated graph\n",
    "Graph_weak_created = Graph.subgraph(components[np.argmax([len(i) for i in components])])\n"
   ]
  },
  {
   "cell_type": "code",
   "execution_count": null,
   "metadata": {},
   "outputs": [],
   "source": []
  },
  {
   "cell_type": "markdown",
   "metadata": {},
   "source": [
    "### SIR Simulation\n",
    "\n",
    "https://epidemicsonnetworks.readthedocs.io/en/latest/functions/EoN.discrete_SIR.html#EoN.discrete_SIR"
   ]
  },
  {
   "cell_type": "code",
   "execution_count": 6,
   "metadata": {},
   "outputs": [],
   "source": [
    "#initial fraction infected\n",
    "rho = 0.05\n",
    "\n",
    "#transmission rate\n",
    "tau = 0.1\n",
    "\n",
    "#recovery rate\n",
    "gamma = 1 \n"
   ]
  },
  {
   "cell_type": "code",
   "execution_count": 7,
   "metadata": {},
   "outputs": [
    {
     "name": "stdout",
     "output_type": "stream",
     "text": [
      "Created: 0.08\n",
      "Created: 9.07\n",
      "\n",
      "Created: 0.353\n",
      "Created: 8.67\n",
      "\n",
      "Created: 0.465\n",
      "Created: 7.12\n",
      "\n"
     ]
    }
   ],
   "source": [
    "for tau in[0.01, 0.05, 0.1]:\n",
    "    # Created graphs\n",
    "    REC_created = []\n",
    "    TIME_created = []\n",
    "\n",
    "    for i in range(100):\n",
    "        t_created, S_created, I_created, R_created = EoN.discrete_SIR(Graph_weak_created, args = (tau,), rho=rho)\n",
    "        R = R_created[-1]/len(Graph_weak_created.nodes)\n",
    "        REC_created.append(R)\n",
    "        TIME_created.append(len(t_created))\n",
    "\n",
    "    print('Created:', np.round(np.mean(REC_created),3))\n",
    "    print('Created:', np.mean(TIME_created))\n",
    "    print()\n"
   ]
  },
  {
   "cell_type": "code",
   "execution_count": null,
   "metadata": {},
   "outputs": [],
   "source": []
  },
  {
   "cell_type": "code",
   "execution_count": 9,
   "metadata": {},
   "outputs": [
    {
     "data": {
      "image/png": "[encoded data removed]",
      "text/plain": [
       "<Figure size 432x288 with 1 Axes>"
      ]
     },
     "metadata": {
      "needs_background": "light"
     },
     "output_type": "display_data"
    }
   ],
   "source": [
    "# Plot for the last simulation\n",
    "plt.plot(t_created, I_created, label = 'infected', c='blue', alpha=0.5)\n",
    "plt.plot(t_created, S_created, label = 'suceptible', c='orange', alpha=0.5)\n",
    "plt.plot(t_created, R_created, label = 'revcovered', c='limegreen', alpha=0.5)\n",
    "\n",
    "plt.xlabel('$t$')\n",
    "plt.ylabel('Number infected')\n",
    "plt.legend()\n",
    "plt.show()\n"
   ]
  },
  {
   "cell_type": "code",
   "execution_count": null,
   "metadata": {},
   "outputs": [],
   "source": []
  }
 ],
 "metadata": {
  "kernelspec": {
   "display_name": "Network",
   "language": "python",
   "name": "network"
  },
  "language_info": {
   "codemirror_mode": {
    "name": "ipython",
    "version": 3
   },
   "file_extension": ".py",
   "mimetype": "text/x-python",
   "name": "python",
   "nbconvert_exporter": "python",
   "pygments_lexer": "ipython3",
   "version": "3.8.5"
  }
 },
 "nbformat": 4,
 "nbformat_minor": 2
}
