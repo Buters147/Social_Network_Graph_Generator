{
 "cells": [
  {
   "cell_type": "markdown",
   "metadata": {},
   "source": [
    "## Notebook to create simple directed social network graphs with $\\chi^2$-distributed degrees"
   ]
  },
  {
   "cell_type": "code",
   "execution_count": 1,
   "metadata": {
    "scrolled": false
   },
   "outputs": [],
   "source": [
    "import numpy as np\n",
    "import pandas as pd\n",
    "import matplotlib.pyplot as plt\n",
    "import networkx as nx\n",
    "from datetime import datetime\n",
    "import random\n",
    "import itertools\n",
    "from scipy.stats import chi2\n",
    "from scipy.stats import norm\n",
    "from scipy.stats import spearmanr\n",
    "from itertools import combinations\n"
   ]
  },
  {
   "cell_type": "code",
   "execution_count": null,
   "metadata": {},
   "outputs": [],
   "source": []
  },
  {
   "cell_type": "markdown",
   "metadata": {},
   "source": [
    "### Network Size"
   ]
  },
  {
   "cell_type": "code",
   "execution_count": 2,
   "metadata": {},
   "outputs": [
    {
     "name": "stdout",
     "output_type": "stream",
     "text": [
      "Declare the number of users in the network: 3000\n",
      "Your network will consist of 3000 users.\n"
     ]
    }
   ],
   "source": [
    "# Declare the size of the network\n",
    "while True:\n",
    "    try:\n",
    "        numNodes = int(input('Declare the number of users in the network: '))\n",
    "    except ValueError:\n",
    "        print('Please enter an integer number.')\n",
    "    else:\n",
    "        if numNodes < 2:\n",
    "            print('Network must have at least 2 nodes.')\n",
    "        else:\n",
    "            break\n",
    "\n",
    "print('Your network will consist of %d users.' %(numNodes))\n"
   ]
  },
  {
   "cell_type": "code",
   "execution_count": null,
   "metadata": {},
   "outputs": [],
   "source": []
  },
  {
   "cell_type": "markdown",
   "metadata": {},
   "source": [
    "### Spearman's rank correlation of the degrees:\n",
    "\n",
    "- $\\rho_1 = \\rho(\\text{reciprocal, in})$\n",
    "- $\\rho_2 = \\rho(\\text{reciprocal, out})$\n",
    "- $\\rho_3 = \\rho(\\text{in, out})$\n"
   ]
  },
  {
   "cell_type": "code",
   "execution_count": 3,
   "metadata": {},
   "outputs": [
    {
     "name": "stdout",
     "output_type": "stream",
     "text": [
      "Declare the rank correlation between reciprocal and in-degree: 0.6\n",
      "Declare the rank correlation between reciprocal and out-degree: 0.5\n",
      "Declare the rank correlation between in- and out-degree: 0.4\n",
      "\n",
      "Rank Correlation between reciprocal and in-degree: 0.600000\n",
      "Rank Correlation between reciprocal and out-degree: 0.500000\n",
      "Rank Correlation between in- and out-degree: 0.400000\n"
     ]
    }
   ],
   "source": [
    "# Declare the rank correlation between reciprocal, in- and out-degree\n",
    "while True:\n",
    "    try:\n",
    "        Rho_1 = float(input('Declare the rank correlation between reciprocal and in-degree: '))\n",
    "    except ValueError:\n",
    "        print('Rank Correlation must be a number.')\n",
    "    else:\n",
    "        if ((Rho_1 > 1) or (Rho_1 < -1)):\n",
    "            print('Rank Correlation must be between -1 and 1.')\n",
    "        else:\n",
    "            break\n",
    "        \n",
    "while True:\n",
    "    try:\n",
    "        Rho_2 = float(input('Declare the rank correlation between reciprocal and out-degree: '))\n",
    "    except ValueError:\n",
    "        print('Rank Correlation must be a number.')\n",
    "    else:\n",
    "        if ((Rho_2 > 1) or (Rho_2 < -1)):\n",
    "            print('Rank Correlation must be between -1 and 1.')\n",
    "        else:\n",
    "            break\n",
    "            \n",
    "while True:\n",
    "    try:\n",
    "        Rho_3 = float(input('Declare the rank correlation between in- and out-degree: '))\n",
    "    except ValueError:\n",
    "        print('Rank Correlation must be a number.')\n",
    "    else:\n",
    "        if ((Rho_3 > 1) or (Rho_3 < -1)):\n",
    "            print('Rank Correlation must be between -1 and 1.')\n",
    "        else:\n",
    "            break\n",
    "\n",
    "print()      \n",
    "print('Rank Correlation between reciprocal and in-degree: %f' %(Rho_1))\n",
    "print('Rank Correlation between reciprocal and out-degree: %f' %(Rho_2))\n",
    "print('Rank Correlation between in- and out-degree: %f' %(Rho_3))\n"
   ]
  },
  {
   "cell_type": "code",
   "execution_count": 4,
   "metadata": {},
   "outputs": [
    {
     "name": "stdout",
     "output_type": "stream",
     "text": [
      "0.6180339887498948 0.5176380902050415 0.41582338163551863\n"
     ]
    }
   ],
   "source": [
    "# Map Spearman's Rho into the linear correaltion coefficient R\n",
    "\n",
    "# R = 2*sin(rho_s*pi/6)\n",
    "\n",
    "R_1 = 2*np.sin(Rho_1*np.pi/6)\n",
    "R_2 = 2*np.sin(Rho_2*np.pi/6)\n",
    "R_3 = 2*np.sin(Rho_3*np.pi/6)\n",
    "\n",
    "print(R_1, R_2, R_3)\n"
   ]
  },
  {
   "cell_type": "code",
   "execution_count": null,
   "metadata": {},
   "outputs": [],
   "source": []
  },
  {
   "cell_type": "markdown",
   "metadata": {},
   "source": [
    "### Declare the parameters (df, loc and scale) for the degree distributions\n",
    "\n",
    "https://docs.scipy.org/doc/scipy/reference/generated/scipy.stats.chi2.html"
   ]
  },
  {
   "cell_type": "code",
   "execution_count": 5,
   "metadata": {},
   "outputs": [
    {
     "name": "stdout",
     "output_type": "stream",
     "text": [
      "Declare the degrees of freedom for the reciprocal degree distribution: 0.3\n",
      "Declare the location parameter for the reciprocal degree distribution: 0.49\n",
      "Declare the scale parameter for the reciprocal degree distribution: 40\n",
      "\n",
      "Mean: 12.49\n",
      "Standard deviation: 30.983866769659336\n"
     ]
    }
   ],
   "source": [
    "# Declare the parameters for the reciprocal degree distribution\n",
    "while True:\n",
    "    try:\n",
    "        df_r = float(input('Declare the degrees of freedom for the reciprocal degree distribution: '))\n",
    "    except ValueError:\n",
    "        print('Degrees of freedom must be a number.')\n",
    "    else:\n",
    "        if (df_r <= 0):\n",
    "            print('Degrees of freedom must be a positive number.')\n",
    "        else:\n",
    "            break\n",
    "        \n",
    "while True:\n",
    "    try:\n",
    "        loc_r = float(input('Declare the location parameter for the reciprocal degree distribution: '))\n",
    "    except ValueError:\n",
    "        print('Location parameter must be a number.')\n",
    "    else:\n",
    "        if (loc_r < 0):\n",
    "            print('Location parameter may not be negative.')\n",
    "        else:\n",
    "            break\n",
    "            \n",
    "while True:\n",
    "    try:\n",
    "        scale_r = float(input('Declare the scale parameter for the reciprocal degree distribution: '))\n",
    "    except ValueError:\n",
    "        print('Scale parameter must be a number.')\n",
    "    else:\n",
    "        if (scale_r <= 0):\n",
    "            print('Scale parameter must be a positive number.')\n",
    "        else:\n",
    "            break\n",
    "\n",
    "print()\n",
    "mean, var, skew, kurt = chi2.stats(df=df_r, loc=loc_r, scale=scale_r, moments='mvsk')\n",
    "print('Mean:', mean)\n",
    "print('Standard deviation:', np.sqrt(var))\n"
   ]
  },
  {
   "cell_type": "code",
   "execution_count": 6,
   "metadata": {},
   "outputs": [
    {
     "name": "stdout",
     "output_type": "stream",
     "text": [
      "Declare the degrees of freedom for the in-degree distribution: 0.2\n",
      "Declare the location parameter for the in-degree distribution: 0.49\n",
      "Declare the scale parameter for the in-degree distribution: 40\n",
      "\n",
      "Mean: 8.49\n",
      "Standard deviation: 25.298221281347036\n"
     ]
    }
   ],
   "source": [
    "# Declare the parameters for the in-degree distribution\n",
    "while True:\n",
    "    try:\n",
    "        df_i = float(input('Declare the degrees of freedom for the in-degree distribution: '))\n",
    "    except ValueError:\n",
    "        print('Degrees of freedom must be a number.')\n",
    "    else:\n",
    "        if (df_i <= 0):\n",
    "            print('Degrees of freedom must be a positive number.')\n",
    "        else:\n",
    "            break\n",
    "        \n",
    "while True:\n",
    "    try:\n",
    "        loc_i = float(input('Declare the location parameter for the in-degree distribution: '))\n",
    "    except ValueError:\n",
    "        print('Location parameter must be a number.')\n",
    "    else:\n",
    "        if (loc_i < 0):\n",
    "            print('Location parameter may not be negative.')\n",
    "        else:\n",
    "            break\n",
    "            \n",
    "while True:\n",
    "    try:\n",
    "        scale_i = float(input('Declare the scale parameter for the in-degree distribution: '))\n",
    "    except ValueError:\n",
    "        print('Scale parameter must be a number.')\n",
    "    else:\n",
    "        if (scale_i <= 0):\n",
    "            print('Scale parameter must be a positive number.')\n",
    "        else:\n",
    "            break\n",
    "\n",
    "print()\n",
    "mean, var, skew, kurt = chi2.stats(df=df_i, loc=loc_i, scale=scale_i, moments='mvsk')\n",
    "print('Mean:', mean)\n",
    "print('Standard deviation:', np.sqrt(var))\n"
   ]
  },
  {
   "cell_type": "code",
   "execution_count": 7,
   "metadata": {},
   "outputs": [
    {
     "name": "stdout",
     "output_type": "stream",
     "text": [
      "Declare the degrees of freedom for the out-degree distribution: 0.4\n",
      "Declare the location parameter for the out-degree distribution: 0.49\n",
      "Declare the scale parameter for the out-degree distribution: 20\n",
      "\n",
      "Mean: 8.49\n",
      "Standard deviation: 17.88854381999832\n"
     ]
    }
   ],
   "source": [
    "# Declare the parameters for the out-degree distribution\n",
    "while True:\n",
    "    try:\n",
    "        df_o = float(input('Declare the degrees of freedom for the out-degree distribution: '))\n",
    "    except ValueError:\n",
    "        print('Degrees of freedom must be a number.')\n",
    "    else:\n",
    "        if (df_o <= 0):\n",
    "            print('Degrees of freedom must be a positive number.')\n",
    "        else:\n",
    "            break\n",
    "        \n",
    "while True:\n",
    "    try:\n",
    "        loc_o = float(input('Declare the location parameter for the out-degree distribution: '))\n",
    "    except ValueError:\n",
    "        print('Location parameter must be a number.')\n",
    "    else:\n",
    "        if (loc_o < 0):\n",
    "            print('Location parameter may not be negative.')\n",
    "        else:\n",
    "            break\n",
    "            \n",
    "while True:\n",
    "    try:\n",
    "        scale_o = float(input('Declare the scale parameter for the out-degree distribution: '))\n",
    "    except ValueError:\n",
    "        print('Scale parameter must be a number.')\n",
    "    else:\n",
    "        if (scale_o <= 0):\n",
    "            print('Scale parameter must be a positive number.')\n",
    "        else:\n",
    "            break\n",
    "\n",
    "print()\n",
    "mean, var, skew, kurt = chi2.stats(df=df_o, loc=loc_o, scale=scale_o, moments='mvsk')\n",
    "print('Mean:', mean)\n",
    "print('Standard deviation:', np.sqrt(var))\n"
   ]
  },
  {
   "cell_type": "code",
   "execution_count": null,
   "metadata": {},
   "outputs": [],
   "source": []
  },
  {
   "cell_type": "markdown",
   "metadata": {},
   "source": [
    "### Sample data"
   ]
  },
  {
   "cell_type": "code",
   "execution_count": 23,
   "metadata": {},
   "outputs": [],
   "source": [
    "# Generate datapoints that are multivariate normally distributed with mean 0 and the covariance matrix as determined above\n",
    "mean = [0,0,0]\n",
    "cov = [[1,R_1,R_2], [R_1,1,R_3], [R_2,R_3,1]] \n",
    "\n",
    "norm_1,norm_2,norm_3 = np.random.multivariate_normal(mean, cov, numNodes).T\n",
    "\n",
    "# Transform the data to be uniformly distributed\n",
    "unif_1 = norm.cdf(norm_1)\n",
    "unif_2 = norm.cdf(norm_2)\n",
    "unif_3 = norm.cdf(norm_3)\n",
    "\n",
    "# Rank correlations between the sampled data\n",
    "Rho_1_sampled = spearmanr(unif_1,unif_2)[0]\n",
    "Rho_2_sampled = spearmanr(unif_1,unif_3)[0]\n",
    "Rho_3_sampled = spearmanr(unif_2,unif_3)[0]\n",
    "\n",
    "RECIPROCAL = chi2.ppf(unif_1, df=df_r, loc=loc_r, scale=scale_r)\n",
    "RECIPROCAL = np.round(RECIPROCAL)\n",
    "\n",
    "ONLY_IN = chi2.ppf(unif_2, df=df_i, loc=loc_i, scale=scale_i)\n",
    "ONLY_IN = np.round(ONLY_IN)\n",
    "\n",
    "ONLY_OUT = chi2.ppf(unif_3, df=df_o, loc=loc_o, scale=scale_o)\n",
    "ONLY_OUT = np.round(ONLY_OUT)\n",
    "\n",
    "# Sum of in degree and sum of out degree\n",
    "SUM_IN = sum(ONLY_IN)\n",
    "SUM_OUT = sum(ONLY_OUT)\n",
    "\n",
    "# Difference in the sum\n",
    "SUM_DELTA = SUM_IN - SUM_OUT\n"
   ]
  },
  {
   "cell_type": "code",
   "execution_count": 24,
   "metadata": {},
   "outputs": [],
   "source": [
    "# Make sure that we can add a node degree to every node:\n",
    "# Here we add the restriction that a degree is only added to the node with a degree in the Top10-percentage\n",
    "\n",
    "while(np.abs(SUM_DELTA) > 0.1*numNodes):\n",
    "    norm_1,norm_2,norm_3 = np.random.multivariate_normal(mean, cov, numNodes).T\n",
    "\n",
    "    # Transform the data to be uniformly distributed\n",
    "    unif_1 = norm.cdf(norm_1)\n",
    "    unif_2 = norm.cdf(norm_2)\n",
    "    unif_3 = norm.cdf(norm_3)\n",
    "\n",
    "    RECIPROCAL = chi2.ppf(unif_1, df=df_r, loc=loc_r, scale=scale_r)\n",
    "    RECIPROCAL = np.round(RECIPROCAL)\n",
    "\n",
    "    ONLY_IN = chi2.ppf(unif_2, df=df_i, loc=loc_i, scale=scale_i)\n",
    "    ONLY_IN = np.round(ONLY_IN)\n",
    "\n",
    "    ONLY_OUT = chi2.ppf(unif_3, df=df_o, loc=loc_o, scale=scale_o)\n",
    "    ONLY_OUT = np.round(ONLY_OUT)\n",
    "\n",
    "    # Sum of in degree and sum of out degree\n",
    "    SUM_IN = sum(ONLY_IN)\n",
    "    SUM_OUT = sum(ONLY_OUT)\n",
    "\n",
    "    # Difference in the sum\n",
    "    SUM_DELTA = SUM_IN - SUM_OUT\n"
   ]
  },
  {
   "cell_type": "code",
   "execution_count": null,
   "metadata": {},
   "outputs": [],
   "source": []
  },
  {
   "cell_type": "markdown",
   "metadata": {},
   "source": [
    "### Put the sampled degrees in a dataframe"
   ]
  },
  {
   "cell_type": "code",
   "execution_count": 25,
   "metadata": {},
   "outputs": [],
   "source": [
    "# Put the sampled degrees in a dataframe\n",
    "SAMPLED = pd.DataFrame(columns=['Reciprocal', 'In', 'Out'])\n",
    "\n",
    "SAMPLED['Reciprocal'] = RECIPROCAL\n",
    "SAMPLED['In'] = ONLY_IN\n",
    "SAMPLED['Out'] = ONLY_OUT\n",
    "\n",
    "SAMPLED['Total'] = SAMPLED['Reciprocal'] + SAMPLED['In'] + SAMPLED['Out']\n",
    "    "
   ]
  },
  {
   "cell_type": "code",
   "execution_count": 26,
   "metadata": {},
   "outputs": [],
   "source": [
    "# For the configuration model, the sum of the reciprocal degrees must be an even number\n",
    "# Sort the reciprocal degree in ascending order and increase the maximum degree by one if the degree sum is an odd number\n",
    "if sum(RECIPROCAL)%2 != 0:\n",
    "    SAMPLED = SAMPLED.sort_values(['Reciprocal'], ascending=False)\n",
    "    SAMPLED['Reciprocal'].iloc[0] = SAMPLED['Reciprocal'].iloc[0]+1\n",
    "    SAMPLED = SAMPLED.sort_index()\n",
    "\n",
    "RECIPROCAL = SAMPLED['Reciprocal']\n"
   ]
  },
  {
   "cell_type": "code",
   "execution_count": 27,
   "metadata": {},
   "outputs": [
    {
     "name": "stderr",
     "output_type": "stream",
     "text": [
      "<ipython-input-27-2465ea52f450>:2: DeprecationWarning: `np.int` is a deprecated alias for the builtin `int`. To silence this warning, use `int` by itself. Doing this will not modify any behavior and is safe. When replacing `np.int`, you may wish to use e.g. `np.int64` or `np.int32` to specify the precision. If you wish to review your current use, check the release note link for additional information.\n",
      "Deprecated in NumPy 1.20; for more details and guidance: https://numpy.org/devdocs/release/1.20.0-notes.html#deprecations\n",
      "  degree_increases = random.sample(range(numNodes), np.int(np.abs(SUM_DELTA)))\n"
     ]
    }
   ],
   "source": [
    "# Randomly select the nodes where to add a node degree\n",
    "degree_increases = random.sample(range(numNodes), np.int(np.abs(SUM_DELTA)))\n",
    "\n",
    "if SUM_DELTA < 0:\n",
    "    for i in range(int(np.abs(SUM_DELTA))):\n",
    "        SAMPLED['In'].iloc[degree_increases[i]] +=1\n",
    "        \n",
    "if SUM_DELTA > 0:\n",
    "    for i in range(int(np.abs(SUM_DELTA))):\n",
    "        SAMPLED['Out'].iloc[degree_increases[i]] +=1\n",
    "        \n",
    "#SAMPLED = SAMPLED.sort_index()\n",
    "ONLY_IN = SAMPLED['In']\n",
    "ONLY_OUT = SAMPLED['Out']\n"
   ]
  },
  {
   "cell_type": "code",
   "execution_count": 28,
   "metadata": {},
   "outputs": [
    {
     "data": {
      "text/html": [
       "<div>\n",
       "<style scoped>\n",
       "    .dataframe tbody tr th:only-of-type {\n",
       "        vertical-align: middle;\n",
       "    }\n",
       "\n",
       "    .dataframe tbody tr th {\n",
       "        vertical-align: top;\n",
       "    }\n",
       "\n",
       "    .dataframe thead th {\n",
       "        text-align: right;\n",
       "    }\n",
       "</style>\n",
       "<table border=\"1\" class=\"dataframe\">\n",
       "  <thead>\n",
       "    <tr style=\"text-align: right;\">\n",
       "      <th></th>\n",
       "      <th>Reciprocal</th>\n",
       "      <th>In</th>\n",
       "      <th>Out</th>\n",
       "      <th>Total</th>\n",
       "    </tr>\n",
       "  </thead>\n",
       "  <tbody>\n",
       "    <tr>\n",
       "      <th>count</th>\n",
       "      <td>3000.000000</td>\n",
       "      <td>3000.000000</td>\n",
       "      <td>3000.000000</td>\n",
       "      <td>3000.000000</td>\n",
       "    </tr>\n",
       "    <tr>\n",
       "      <th>mean</th>\n",
       "      <td>11.757333</td>\n",
       "      <td>8.698333</td>\n",
       "      <td>8.698333</td>\n",
       "      <td>29.118333</td>\n",
       "    </tr>\n",
       "    <tr>\n",
       "      <th>std</th>\n",
       "      <td>27.652981</td>\n",
       "      <td>26.773562</td>\n",
       "      <td>18.090709</td>\n",
       "      <td>55.164627</td>\n",
       "    </tr>\n",
       "    <tr>\n",
       "      <th>min</th>\n",
       "      <td>0.000000</td>\n",
       "      <td>0.000000</td>\n",
       "      <td>0.000000</td>\n",
       "      <td>0.000000</td>\n",
       "    </tr>\n",
       "    <tr>\n",
       "      <th>25%</th>\n",
       "      <td>0.000000</td>\n",
       "      <td>0.000000</td>\n",
       "      <td>1.000000</td>\n",
       "      <td>2.000000</td>\n",
       "    </tr>\n",
       "    <tr>\n",
       "      <th>50%</th>\n",
       "      <td>1.000000</td>\n",
       "      <td>1.000000</td>\n",
       "      <td>1.000000</td>\n",
       "      <td>7.000000</td>\n",
       "    </tr>\n",
       "    <tr>\n",
       "      <th>75%</th>\n",
       "      <td>8.000000</td>\n",
       "      <td>3.000000</td>\n",
       "      <td>8.000000</td>\n",
       "      <td>31.000000</td>\n",
       "    </tr>\n",
       "    <tr>\n",
       "      <th>max</th>\n",
       "      <td>328.000000</td>\n",
       "      <td>390.000000</td>\n",
       "      <td>196.000000</td>\n",
       "      <td>619.000000</td>\n",
       "    </tr>\n",
       "  </tbody>\n",
       "</table>\n",
       "</div>"
      ],
      "text/plain": [
       "        Reciprocal           In          Out        Total\n",
       "count  3000.000000  3000.000000  3000.000000  3000.000000\n",
       "mean     11.757333     8.698333     8.698333    29.118333\n",
       "std      27.652981    26.773562    18.090709    55.164627\n",
       "min       0.000000     0.000000     0.000000     0.000000\n",
       "25%       0.000000     0.000000     1.000000     2.000000\n",
       "50%       1.000000     1.000000     1.000000     7.000000\n",
       "75%       8.000000     3.000000     8.000000    31.000000\n",
       "max     328.000000   390.000000   196.000000   619.000000"
      ]
     },
     "execution_count": 28,
     "metadata": {},
     "output_type": "execute_result"
    }
   ],
   "source": [
    "SAMPLED.describe()"
   ]
  },
  {
   "cell_type": "code",
   "execution_count": 29,
   "metadata": {},
   "outputs": [
    {
     "name": "stdout",
     "output_type": "stream",
     "text": [
      "Transformed Spearmans Rho: 0.5444079325168127 0.4599374115379435 0.3520873872739277\n",
      "Sampled Spearmans Rho: 0.6069871647763515 0.4978003806444867 0.39848536116504013\n",
      "Original Spearmans Rho: 0.6 0.5 0.4\n"
     ]
    }
   ],
   "source": [
    "Sampled_Rho_1 = spearmanr(SAMPLED['Reciprocal'],SAMPLED['In'])[0]\n",
    "Sampled_Rho_2 = spearmanr(SAMPLED['Reciprocal'],SAMPLED['Out'])[0]\n",
    "Sampled_Rho_3 = spearmanr(SAMPLED['In'],SAMPLED['Out'])[0]\n",
    "\n",
    "print('Transformed Spearmans Rho:', Sampled_Rho_1, Sampled_Rho_2, Sampled_Rho_3)\n",
    "print('Sampled Spearmans Rho:', Rho_1_sampled, Rho_2_sampled, Rho_3_sampled)\n",
    "print('Original Spearmans Rho:', Rho_1, Rho_2, Rho_3)\n"
   ]
  },
  {
   "cell_type": "code",
   "execution_count": 30,
   "metadata": {},
   "outputs": [
    {
     "data": {
      "text/plain": [
       "(295, 4)"
      ]
     },
     "execution_count": 30,
     "metadata": {},
     "output_type": "execute_result"
    }
   ],
   "source": [
    "SAMPLED[SAMPLED['Total'] == 0].shape"
   ]
  },
  {
   "cell_type": "code",
   "execution_count": 31,
   "metadata": {},
   "outputs": [],
   "source": [
    "# Number of expected reciprocal edges\n",
    "num_R = sum(SAMPLED['Reciprocal'])/2\n",
    "\n",
    "# Number of expected incoming edges\n",
    "num_I = sum(SAMPLED['In'])\n",
    "\n",
    "# Number of expected outgoing edges\n",
    "num_O = sum(SAMPLED['Out'])\n"
   ]
  },
  {
   "cell_type": "code",
   "execution_count": 32,
   "metadata": {},
   "outputs": [],
   "source": [
    "### Initiate an empty graph\n",
    "# Number of nodes\n",
    "numNodes = SAMPLED.shape[0]\n",
    "\n",
    "# Node numbers\n",
    "Nodes = list(range(1, numNodes+1))\n",
    "\n",
    "# Directed empty graph\n",
    "Graph = nx.DiGraph()\n",
    "\n",
    "# Add the nodes\n",
    "Graph.add_nodes_from(Nodes)\n"
   ]
  },
  {
   "cell_type": "code",
   "execution_count": 33,
   "metadata": {},
   "outputs": [],
   "source": [
    "START = datetime.now()"
   ]
  },
  {
   "cell_type": "code",
   "execution_count": null,
   "metadata": {},
   "outputs": [],
   "source": []
  },
  {
   "cell_type": "markdown",
   "metadata": {},
   "source": [
    "### Sample Edges"
   ]
  },
  {
   "cell_type": "markdown",
   "metadata": {},
   "source": [
    "Reciprocal Edges"
   ]
  },
  {
   "cell_type": "code",
   "execution_count": 34,
   "metadata": {},
   "outputs": [],
   "source": [
    "# Put the sampled degrees in a dataframe and sort in descending order\n",
    "SAMPLED_sorted = SAMPLED.sort_values(['Reciprocal'], ascending=False)\n"
   ]
  },
  {
   "cell_type": "code",
   "execution_count": 35,
   "metadata": {},
   "outputs": [],
   "source": [
    "for j in range(len(Nodes)):\n",
    "\n",
    "    # Get the reciprocal degrees and sort the list in descending order\n",
    "    R = list(SAMPLED['Reciprocal'])\n",
    "    R_sorted = list(SAMPLED_sorted['Reciprocal'])\n",
    "\n",
    "    # Potential connections for the node with the highest degree\n",
    "    pot = []\n",
    "    for i in range(1,len(Nodes)):\n",
    "        if (R_sorted[i]!=0 and (SAMPLED_sorted.index[0]+1,SAMPLED_sorted.index[i]+1) not in Graph.edges and (SAMPLED_sorted.index[i]+1,SAMPLED_sorted.index[0]+1) not in Graph.edges):\n",
    "            pot.append((SAMPLED_sorted.index[0]+1,SAMPLED_sorted.index[i]+1))\n",
    "\n",
    "    if pot: \n",
    "        # Randomly sample degree_times from the list of potential edges\n",
    "        choice = random.sample(pot,min(len(pot),int(R_sorted[0])))\n",
    "\n",
    "        # Save the nodes which will be connected to the current node to reduce their degree\n",
    "        NODES = []\n",
    "        for i in range(len(choice)):\n",
    "            choice.append((choice[i][1],choice[i][0]))\n",
    "            \n",
    "        for i in range(int(len(choice)/2)):\n",
    "            SAMPLED['Reciprocal'].iloc[choice[i][0]-1] -= 1\n",
    "            SAMPLED['Reciprocal'].iloc[choice[i][1]-1] -= 1\n",
    "            NODES.append(choice[i][1])\n",
    "            \n",
    "        # Add the edges\n",
    "        Graph.add_edges_from(choice) \n",
    "        \n",
    "        # Go through all possible connetions to form a triangle\n",
    "        for comb in itertools.combinations(NODES, 2):\n",
    "            if(SAMPLED.iloc[comb[0]-1]['Reciprocal'] != 0 and SAMPLED.iloc[comb[1]-1]['Reciprocal'] != 0 and (comb[0], comb[1]) not in Graph.edges):\n",
    "                Graph.add_edges_from([(comb[0],comb[1]),(comb[1],comb[0])])\n",
    "                SAMPLED['Reciprocal'].iloc[comb[0]-1] -= 1\n",
    "                SAMPLED['Reciprocal'].iloc[comb[1]-1] -= 1\n",
    "            \n",
    "        SAMPLED_sorted = SAMPLED.sort_values(['Reciprocal'], ascending=False)\n"
   ]
  },
  {
   "cell_type": "code",
   "execution_count": null,
   "metadata": {},
   "outputs": [],
   "source": []
  },
  {
   "cell_type": "markdown",
   "metadata": {},
   "source": [
    "Directed Edges"
   ]
  },
  {
   "cell_type": "code",
   "execution_count": 36,
   "metadata": {},
   "outputs": [],
   "source": [
    "for j in range(len(Nodes)):\n",
    "    \n",
    "    SAMPLED_sorted = SAMPLED.sort_values(['Out'], ascending=False)\n",
    "\n",
    "    O = list(SAMPLED['Out'])\n",
    "    I = list(SAMPLED['In'])\n",
    "    O_sorted = list(SAMPLED_sorted['Out'])\n",
    "    I_sorted = list(SAMPLED_sorted['In'])\n",
    "\n",
    "    pot = []                \n",
    "    for i in range(1,len(Nodes)):\n",
    "        if (I_sorted[i]!=0 and (SAMPLED_sorted.index[0]+1,SAMPLED_sorted.index[i]+1) not in Graph.edges and (SAMPLED_sorted.index[i]+1,SAMPLED_sorted.index[0]+1) not in Graph.edges):\n",
    "            pot.append((SAMPLED_sorted.index[0]+1,SAMPLED_sorted.index[i]+1))\n",
    "\n",
    "    if pot:\n",
    "        choice = random.sample(pot, min(int(O_sorted[0]), len(pot)))\n",
    "\n",
    "        NODES = []\n",
    "        \n",
    "        for i in range(len(choice)):\n",
    "            SAMPLED['Out'].iloc[choice[i][0]-1] -= 1\n",
    "            SAMPLED['In'].iloc[choice[i][1]-1] -= 1\n",
    "            NODES.append(choice[i][1])\n",
    "            \n",
    "        # Add the edges\n",
    "        Graph.add_edges_from(choice)   \n",
    "\n",
    "        # Go through all possible connetions to form a triangle\n",
    "        for comb in itertools.combinations(NODES, 2):\n",
    "            if(SAMPLED.iloc[comb[0]-1]['Out'] != 0 and SAMPLED.iloc[comb[1]-1]['In'] != 0 and comb not in Graph.edges):\n",
    "                Graph.add_edge(comb[0],comb[1])\n",
    "                SAMPLED['Out'].iloc[comb[0]-1] -= 1\n",
    "                SAMPLED['In'].iloc[comb[1]-1] -= 1\n",
    "            elif(SAMPLED.iloc[comb[1]-1]['Out'] != 0 and SAMPLED.iloc[comb[0]-1]['In'] != 0 and (comb[1],comb[0]) not in Graph.edges):\n",
    "                Graph.add_edge(comb[1],comb[0])\n",
    "                SAMPLED['Out'].iloc[comb[1]-1] -= 1\n",
    "                SAMPLED['In'].iloc[comb[0]-1] -= 1  \n"
   ]
  },
  {
   "cell_type": "code",
   "execution_count": null,
   "metadata": {},
   "outputs": [],
   "source": []
  },
  {
   "cell_type": "markdown",
   "metadata": {},
   "source": [
    "### End of computation"
   ]
  },
  {
   "cell_type": "code",
   "execution_count": 37,
   "metadata": {},
   "outputs": [],
   "source": [
    "END = datetime.now()"
   ]
  },
  {
   "cell_type": "code",
   "execution_count": 38,
   "metadata": {},
   "outputs": [],
   "source": [
    "def days_hours_minutes_seconds(td):\n",
    "    return td.days, td.seconds//3600, (td.seconds//60)%60, td.seconds%60"
   ]
  },
  {
   "cell_type": "code",
   "execution_count": 39,
   "metadata": {},
   "outputs": [
    {
     "name": "stdout",
     "output_type": "stream",
     "text": [
      "Start of computation time: 15:36:46.654018\n",
      "End of computation time: 15:38:04.325981\n"
     ]
    }
   ],
   "source": [
    "# Compute the total runtime\n",
    "DELTA = END-START\n",
    "DELTA.total_seconds()\n",
    "DELTA = days_hours_minutes_seconds(DELTA)\n",
    "\n",
    "print('Start of computation time:', START.time())\n",
    "print('End of computation time:', END.time())\n"
   ]
  },
  {
   "cell_type": "code",
   "execution_count": 40,
   "metadata": {},
   "outputs": [
    {
     "name": "stdout",
     "output_type": "stream",
     "text": [
      "Computation time: 1 min and 17 sec\n"
     ]
    }
   ],
   "source": [
    "DAYS = 0\n",
    "HOURS = 0\n",
    "MINUTES = 0\n",
    "SECONDS = 0\n",
    "\n",
    "if DELTA[0] > 0:\n",
    "    DAYS = DELTA[0]\n",
    "if DELTA[1] > 0:\n",
    "    HOURS = DELTA[1]\n",
    "if DELTA[2] > 0:\n",
    "    MINUTES = DELTA[2]\n",
    "if DELTA[3] > 0:\n",
    "    SECONDS = DELTA[3]\n",
    "    \n",
    "\n",
    "if DAYS == 0:\n",
    "    if HOURS == 0:  \n",
    "        if MINUTES == 0:\n",
    "            print('Computation time: %d sec' %(SECONDS))\n",
    "        else: \n",
    "            print('Computation time: %d min and %d sec' %(MINUTES, SECONDS))\n",
    "    else:\n",
    "        print('Computation time: %d hr, %d min and %d sec' %(HOURS, MINUTES, SECONDS))\n",
    "else: \n",
    "    print('Computation time: %d d, %d hs, %d min and %d sec' %(DAYS, HOURS, MINUTES, SECONDS))\n",
    "    "
   ]
  },
  {
   "cell_type": "code",
   "execution_count": null,
   "metadata": {},
   "outputs": [],
   "source": []
  },
  {
   "cell_type": "markdown",
   "metadata": {},
   "source": [
    "### Save the final graph"
   ]
  },
  {
   "cell_type": "code",
   "execution_count": 41,
   "metadata": {},
   "outputs": [],
   "source": [
    "# Save the graph in a gpickle format (adjlist only saved it as an undirected graph)\n",
    "nx.write_gpickle(Graph, 'Network_Graph.gpickle')"
   ]
  },
  {
   "cell_type": "code",
   "execution_count": null,
   "metadata": {},
   "outputs": [],
   "source": []
  }
 ],
 "metadata": {
  "direction": "ltr",
  "kernelspec": {
   "display_name": "Network",
   "language": "python",
   "name": "network"
  },
  "language_info": {
   "codemirror_mode": {
    "name": "ipython",
    "version": 3
   },
   "file_extension": ".py",
   "mimetype": "text/x-python",
   "name": "python",
   "nbconvert_exporter": "python",
   "pygments_lexer": "ipython3",
   "version": "3.8.5"
  }
 },
 "nbformat": 4,
 "nbformat_minor": 2
}
